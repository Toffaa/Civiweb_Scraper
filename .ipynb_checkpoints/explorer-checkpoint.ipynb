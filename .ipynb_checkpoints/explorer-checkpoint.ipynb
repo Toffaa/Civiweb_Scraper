{
 "cells": [
  {
   "cell_type": "markdown",
   "metadata": {},
   "source": [
    "# Quick analysis of the VIE/VIA contracts available on "
   ]
  },
  {
   "cell_type": "code",
   "execution_count": 2,
   "metadata": {},
   "outputs": [],
   "source": [
    "import pandas as pd\n",
    "\n",
    "df = pd.read_json('Scrap_NoNA.json')\n"
   ]
  },
  {
   "cell_type": "code",
   "execution_count": 3,
   "metadata": {},
   "outputs": [
    {
     "data": {
      "text/html": [
       "<div>\n",
       "<style scoped>\n",
       "    .dataframe tbody tr th:only-of-type {\n",
       "        vertical-align: middle;\n",
       "    }\n",
       "\n",
       "    .dataframe tbody tr th {\n",
       "        vertical-align: top;\n",
       "    }\n",
       "\n",
       "    .dataframe thead th {\n",
       "        text-align: right;\n",
       "    }\n",
       "</style>\n",
       "<table border=\"1\" class=\"dataframe\">\n",
       "  <thead>\n",
       "    <tr style=\"text-align: right;\">\n",
       "      <th></th>\n",
       "      <th>NumberOfJobs</th>\n",
       "      <th>DesiredExperience</th>\n",
       "      <th>EducationLevel</th>\n",
       "      <th>Languages</th>\n",
       "    </tr>\n",
       "  </thead>\n",
       "  <tbody>\n",
       "    <tr>\n",
       "      <td>1342</td>\n",
       "      <td>1</td>\n",
       "      <td>36</td>\n",
       "      <td>bac+5 et plus , bac+4 , bac+2</td>\n",
       "      <td>Anglais                                       ...</td>\n",
       "    </tr>\n",
       "    <tr>\n",
       "      <td>22566</td>\n",
       "      <td>1</td>\n",
       "      <td>12</td>\n",
       "      <td>bac+5 et plus , bac+4 , bac+2</td>\n",
       "      <td>Allemand                                      ...</td>\n",
       "    </tr>\n",
       "    <tr>\n",
       "      <td>24886</td>\n",
       "      <td>1</td>\n",
       "      <td>0</td>\n",
       "      <td>bac+3</td>\n",
       "      <td>Français , Anglais                            ...</td>\n",
       "    </tr>\n",
       "    <tr>\n",
       "      <td>25574</td>\n",
       "      <td>1</td>\n",
       "      <td>12</td>\n",
       "      <td>bac+5 et plus</td>\n",
       "      <td>Anglais                                       ...</td>\n",
       "    </tr>\n",
       "    <tr>\n",
       "      <td>27293</td>\n",
       "      <td>1</td>\n",
       "      <td>12</td>\n",
       "      <td>bac+5 et plus</td>\n",
       "      <td>Allemand                                      ...</td>\n",
       "    </tr>\n",
       "    <tr>\n",
       "      <td>...</td>\n",
       "      <td>...</td>\n",
       "      <td>...</td>\n",
       "      <td>...</td>\n",
       "      <td>...</td>\n",
       "    </tr>\n",
       "    <tr>\n",
       "      <td>33884</td>\n",
       "      <td>1</td>\n",
       "      <td>12</td>\n",
       "      <td>bac+5 et plus</td>\n",
       "      <td>Français , Anglais</td>\n",
       "    </tr>\n",
       "    <tr>\n",
       "      <td>33888</td>\n",
       "      <td>1</td>\n",
       "      <td>12</td>\n",
       "      <td>bac+5 et plus</td>\n",
       "      <td>Anglais                                       ...</td>\n",
       "    </tr>\n",
       "    <tr>\n",
       "      <td>33891</td>\n",
       "      <td>1</td>\n",
       "      <td>12</td>\n",
       "      <td>bac+5 et plus , bac+4 , bac+3</td>\n",
       "      <td>Français , Anglais</td>\n",
       "    </tr>\n",
       "    <tr>\n",
       "      <td>33898</td>\n",
       "      <td>1</td>\n",
       "      <td>6</td>\n",
       "      <td>bac+5 et plus</td>\n",
       "      <td>Espagnol                                      ...</td>\n",
       "    </tr>\n",
       "    <tr>\n",
       "      <td>33899</td>\n",
       "      <td>1</td>\n",
       "      <td>0</td>\n",
       "      <td>bac+4 , bac+5 et plus</td>\n",
       "      <td>Anglais                                       ...</td>\n",
       "    </tr>\n",
       "  </tbody>\n",
       "</table>\n",
       "<p>372 rows × 4 columns</p>\n",
       "</div>"
      ],
      "text/plain": [
       "      NumberOfJobs DesiredExperience                 EducationLevel  \\\n",
       "1342             1                36  bac+5 et plus , bac+4 , bac+2   \n",
       "22566            1                12  bac+5 et plus , bac+4 , bac+2   \n",
       "24886            1                 0                          bac+3   \n",
       "25574            1                12                  bac+5 et plus   \n",
       "27293            1                12                  bac+5 et plus   \n",
       "...            ...               ...                            ...   \n",
       "33884            1                12                  bac+5 et plus   \n",
       "33888            1                12                  bac+5 et plus   \n",
       "33891            1                12  bac+5 et plus , bac+4 , bac+3   \n",
       "33898            1                 6                  bac+5 et plus   \n",
       "33899            1                 0          bac+4 , bac+5 et plus   \n",
       "\n",
       "                                               Languages  \n",
       "1342   Anglais                                       ...  \n",
       "22566  Allemand                                      ...  \n",
       "24886  Français , Anglais                            ...  \n",
       "25574  Anglais                                       ...  \n",
       "27293  Allemand                                      ...  \n",
       "...                                                  ...  \n",
       "33884                                 Français , Anglais  \n",
       "33888  Anglais                                       ...  \n",
       "33891                                 Français , Anglais  \n",
       "33898  Espagnol                                      ...  \n",
       "33899  Anglais                                       ...  \n",
       "\n",
       "[372 rows x 4 columns]"
      ]
     },
     "execution_count": 3,
     "metadata": {},
     "output_type": "execute_result"
    }
   ],
   "source": [
    "df = df[df['NumberOfJobs'] != 'N/A']\n",
    "df"
   ]
  },
  {
   "cell_type": "code",
   "execution_count": 21,
   "metadata": {},
   "outputs": [
    {
     "data": {
      "text/plain": [
       "'bac+2 , bac+4 , bac+5 et plus'"
      ]
     },
     "execution_count": 21,
     "metadata": {},
     "output_type": "execute_result"
    }
   ],
   "source": [
    "offer_details = {}\n",
    "offer_details['EducationLevel'] = \"bac+2 , bac+4 , bac+5 et plus\"\n",
    "if 'bac ,' in offer_details['EducationLevel']:\n",
    "    offer_details['EducationLevel'] = 0\n",
    "else:\n",
    "    for i in range(1,6):\n",
    "        if 'bac+{i}' in offer_details['EducationLevel']:\n",
    "            offer_details['EducationLevel'] = i\n",
    "offer_details['EducationLevel']"
   ]
  },
  {
   "cell_type": "code",
   "execution_count": null,
   "metadata": {},
   "outputs": [],
   "source": []
  }
 ],
 "metadata": {
  "file_extension": ".py",
  "kernelspec": {
   "display_name": "Python 3",
   "language": "python",
   "name": "python3"
  },
  "language_info": {
   "codemirror_mode": {
    "name": "ipython",
    "version": 3
   },
   "file_extension": ".py",
   "mimetype": "text/x-python",
   "name": "python",
   "nbconvert_exporter": "python",
   "pygments_lexer": "ipython3",
   "version": "3.7.4"
  },
  "mimetype": "text/x-python",
  "name": "python",
  "npconvert_exporter": "python",
  "pygments_lexer": "ipython3",
  "version": 3
 },
 "nbformat": 4,
 "nbformat_minor": 2
}
