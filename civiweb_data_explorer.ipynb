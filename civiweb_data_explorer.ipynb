{
 "cells": [
  {
   "cell_type": "markdown",
   "metadata": {},
   "source": [
    "# Quick analysis of the VIE/VIA contracts available on *civiweb.fr*"
   ]
  },
  {
   "cell_type": "markdown",
   "metadata": {},
   "source": [
    "This Jupyter notebook is designed to use data from the civiweb website that you can get by using the following scraper : WWW\n",
    "\n",
    "VIE and VIA are a specific kind of international internship in company or administration, that are managed in France by an organization called Business France. More information can be found at the following address : https://www.civiweb.com/EN/le-volontariat-international.aspx.\n",
    "\n",
    "The purpose of this notebook is to describe quickly the extracted data, and to get some useful informations both from Business France and applicants perspectives."
   ]
  },
  {
   "cell_type": "code",
   "execution_count": 184,
   "metadata": {},
   "outputs": [
    {
     "name": "stdout",
     "output_type": "stream",
     "text": "Index(['URL', 'Reference', 'Title', 'Country', 'City', 'StartDate', 'EndDate',\n       'NumberOfMonths', 'Organization', 'Salary', 'NumberOfJobs',\n       'DesiredExperience', 'EducationLevel', 'Languages', 'Competence',\n       'Diploma', 'PublicationDate', 'PublisherCity', 'TypeOfContract'],\n      dtype='object')\nNumber of offers : 1848\n"
    }
   ],
   "source": [
    "# Importing the data\n",
    "import pandas as pd\n",
    "\n",
    "df = pd.read_json('data/offers.json')\n",
    "df = df[df['Reference'] != 'N/A']\n",
    "print(df.columns)\n",
    "print('Number of offers :', df.shape[0])"
   ]
  },
  {
   "cell_type": "markdown",
   "execution_count": 8,
   "metadata": {},
   "outputs": [
    {
     "ename": "SyntaxError",
     "evalue": "invalid syntax (<ipython-input-8-1416415c7e09>, line 1)",
     "output_type": "error",
     "traceback": [
      "\u001b[1;36m  File \u001b[1;32m\"<ipython-input-8-1416415c7e09>\"\u001b[1;36m, line \u001b[1;32m1\u001b[0m\n\u001b[1;33m    A first useful analysis could be to see the geographical repartition of the offers.\u001b[0m\n\u001b[1;37m          ^\u001b[0m\n\u001b[1;31mSyntaxError\u001b[0m\u001b[1;31m:\u001b[0m invalid syntax\n"
     ]
    }
   ],
   "source": [
    "A first useful analysis could be to see the geographical repartition of the offers. To do so, we need to transform French country names into "
   ]
  },
  {
   "cell_type": "code",
   "execution_count": 185,
   "metadata": {},
   "outputs": [
    {
     "name": "stdout",
     "output_type": "stream",
     "text": "Unrecognized countries : ['VIETNAM' 'REPUBLIQUE TCHEQUE' 'RUSSIE' 'MYANMAR (EX BIRMANIE)'\n 'COREE DU SUD' 'TAIWAN' 'GUINEE-BISSAO' 'LAOS']\n"
    }
   ],
   "source": [
    "import pycountry\n",
    "import gettext\n",
    "from unidecode import unidecode\n",
    "\n",
    "def get_country_code(french_name):\n",
    "    fr = gettext.translation('iso3166', pycountry.LOCALES_DIR, languages=['FR'])\n",
    "    fr.install()\n",
    "    country_code = ''.join([country.alpha_3 for country in pycountry.countries if unidecode(fr.gettext(country.name).upper()) == french_name]) # u'FR'\n",
    "    return country_code\n",
    "\n",
    "df['CountryAlpha3'] = df['Country'].apply(get_country_code)\n",
    "print('Unrecognized countries :', df[df['CountryAlpha3'] == ''].Country.unique())"
   ]
  },
  {
   "cell_type": "code",
   "execution_count": 186,
   "metadata": {},
   "outputs": [],
   "source": [
    "# Mapping the unrecognized country manually\n",
    "map = {'VIETNAM' : 'VNM','REPUBLIQUE TCHEQUE' : 'CZE','RUSSIE' : 'RUS','MYANMAR (EX BIRMANIE)' : 'MMR','COREE DU SUD' : 'KOR','TAIWAN' : 'TWN','GUINEE-BISSAO' : 'GNB','LAOS' : 'LAO'}\n",
    "temp = df['Country'].map(map, na_action='ignore')\n",
    "df['CountryAlpha3'].update(temp)"
   ]
  },
  {
   "cell_type": "markdown",
   "execution_count": null,
   "metadata": {},
   "outputs": [],
   "source": [
    "Now, I would like to answer to the following questions :\n",
    "\n",
    "- How VIE are distributed around the world ?\n",
    "- Where the salary of the VIE are the highest comparated to the local median income ?\n",
    "\n",
    "To do so, I'm going to create a dataframe containing the required data grouped by country code.\n",
    "\n",
    "*NB It would have been much more accurate to use cities instead of countries to do this analysis (as in USA or China for example, the salary changes in big cities). However, it requires a lot of work on the data cleansing and aggregating part, and that's not the purpose of this notebook.*"
   ]
  },
  {
   "cell_type": "code",
   "execution_count": 187,
   "metadata": {},
   "outputs": [],
   "source": [
    "df_country = pd.read_csv('data/net_income.csv')\n",
    "temp = df_country['Country'].apply(pycountry.countries.search_fuzzy)\n",
    "df_country['code'] = temp.apply(lambda x : x[0].alpha_3)\n",
    "df_country.set_index('code', inplace=True)\n",
    "\n",
    "df['Salary'] = pd.to_numeric(df['Salary'])\n",
    "vie_salary = df.groupby('CountryAlpha3').Salary.mean()\n",
    "vie_number = df.groupby('CountryAlpha3').Salary.count()\n",
    "df_country['NumberOfVIE'] = vie_number\n",
    "df_country['AverageSalaryVIE'] = vie_salary\n",
    "\n",
    "df_country = df_country[df_country['AverageSalaryVIE'].isnull() == False]"
   ]
  }
 ],
 "metadata": {
  "file_extension": ".py",
  "kernelspec": {
   "display_name": "Python 3",
   "language": "python",
   "name": "python3"
  },
  "language_info": {
   "codemirror_mode": {
    "name": "ipython",
    "version": 3
   },
   "file_extension": ".py",
   "mimetype": "text/x-python",
   "name": "python",
   "nbconvert_exporter": "python",
   "pygments_lexer": "ipython3",
   "version": "3.7.4"
  },
  "mimetype": "text/x-python",
  "name": "python",
  "npconvert_exporter": "python",
  "pygments_lexer": "ipython3",
  "version": 3
 },
 "nbformat": 4,
 "nbformat_minor": 2
}